{
 "cells": [
  {
   "cell_type": "code",
   "execution_count": null,
   "id": "27d4b3a2",
   "metadata": {},
   "outputs": [],
   "source": [
    "# neural network"
   ]
  },
  {
   "cell_type": "code",
   "execution_count": 23,
   "id": "1a835e43",
   "metadata": {},
   "outputs": [],
   "source": [
    "import pandas as pd\n",
    "import numpy as np"
   ]
  },
  {
   "cell_type": "code",
   "execution_count": 24,
   "id": "d28f0057",
   "metadata": {},
   "outputs": [],
   "source": [
    "df = pd.read_csv('encoded.csv', encoding='utf-8')"
   ]
  },
  {
   "cell_type": "code",
   "execution_count": 25,
   "id": "659db245",
   "metadata": {},
   "outputs": [
    {
     "data": {
      "text/html": [
       "<div>\n",
       "<style scoped>\n",
       "    .dataframe tbody tr th:only-of-type {\n",
       "        vertical-align: middle;\n",
       "    }\n",
       "\n",
       "    .dataframe tbody tr th {\n",
       "        vertical-align: top;\n",
       "    }\n",
       "\n",
       "    .dataframe thead th {\n",
       "        text-align: right;\n",
       "    }\n",
       "</style>\n",
       "<table border=\"1\" class=\"dataframe\">\n",
       "  <thead>\n",
       "    <tr style=\"text-align: right;\">\n",
       "      <th></th>\n",
       "      <th>class</th>\n",
       "      <th>age</th>\n",
       "      <th>menopause</th>\n",
       "      <th>tumor-size</th>\n",
       "      <th>inv-nodes</th>\n",
       "      <th>node-caps</th>\n",
       "      <th>deg-malig</th>\n",
       "      <th>breast</th>\n",
       "      <th>breast-quad</th>\n",
       "      <th>irradiant</th>\n",
       "    </tr>\n",
       "  </thead>\n",
       "  <tbody>\n",
       "    <tr>\n",
       "      <th>0</th>\n",
       "      <td>1</td>\n",
       "      <td>30.39</td>\n",
       "      <td>3</td>\n",
       "      <td>30.34</td>\n",
       "      <td>0.2</td>\n",
       "      <td>0.0</td>\n",
       "      <td>3</td>\n",
       "      <td>1</td>\n",
       "      <td>2</td>\n",
       "      <td>0</td>\n",
       "    </tr>\n",
       "    <tr>\n",
       "      <th>1</th>\n",
       "      <td>1</td>\n",
       "      <td>40.49</td>\n",
       "      <td>3</td>\n",
       "      <td>20.24</td>\n",
       "      <td>0.2</td>\n",
       "      <td>0.0</td>\n",
       "      <td>2</td>\n",
       "      <td>2</td>\n",
       "      <td>3</td>\n",
       "      <td>0</td>\n",
       "    </tr>\n",
       "    <tr>\n",
       "      <th>2</th>\n",
       "      <td>1</td>\n",
       "      <td>40.49</td>\n",
       "      <td>3</td>\n",
       "      <td>20.24</td>\n",
       "      <td>0.2</td>\n",
       "      <td>0.0</td>\n",
       "      <td>2</td>\n",
       "      <td>1</td>\n",
       "      <td>2</td>\n",
       "      <td>0</td>\n",
       "    </tr>\n",
       "    <tr>\n",
       "      <th>3</th>\n",
       "      <td>1</td>\n",
       "      <td>60.69</td>\n",
       "      <td>2</td>\n",
       "      <td>15.19</td>\n",
       "      <td>0.2</td>\n",
       "      <td>0.0</td>\n",
       "      <td>2</td>\n",
       "      <td>2</td>\n",
       "      <td>1</td>\n",
       "      <td>0</td>\n",
       "    </tr>\n",
       "    <tr>\n",
       "      <th>4</th>\n",
       "      <td>1</td>\n",
       "      <td>40.49</td>\n",
       "      <td>3</td>\n",
       "      <td>0.40</td>\n",
       "      <td>0.2</td>\n",
       "      <td>0.0</td>\n",
       "      <td>2</td>\n",
       "      <td>2</td>\n",
       "      <td>4</td>\n",
       "      <td>0</td>\n",
       "    </tr>\n",
       "    <tr>\n",
       "      <th>...</th>\n",
       "      <td>...</td>\n",
       "      <td>...</td>\n",
       "      <td>...</td>\n",
       "      <td>...</td>\n",
       "      <td>...</td>\n",
       "      <td>...</td>\n",
       "      <td>...</td>\n",
       "      <td>...</td>\n",
       "      <td>...</td>\n",
       "      <td>...</td>\n",
       "    </tr>\n",
       "    <tr>\n",
       "      <th>281</th>\n",
       "      <td>2</td>\n",
       "      <td>30.39</td>\n",
       "      <td>3</td>\n",
       "      <td>30.34</td>\n",
       "      <td>0.2</td>\n",
       "      <td>0.0</td>\n",
       "      <td>2</td>\n",
       "      <td>1</td>\n",
       "      <td>1</td>\n",
       "      <td>0</td>\n",
       "    </tr>\n",
       "    <tr>\n",
       "      <th>282</th>\n",
       "      <td>2</td>\n",
       "      <td>30.39</td>\n",
       "      <td>3</td>\n",
       "      <td>20.24</td>\n",
       "      <td>0.2</td>\n",
       "      <td>0.0</td>\n",
       "      <td>3</td>\n",
       "      <td>1</td>\n",
       "      <td>1</td>\n",
       "      <td>1</td>\n",
       "    </tr>\n",
       "    <tr>\n",
       "      <th>283</th>\n",
       "      <td>2</td>\n",
       "      <td>60.69</td>\n",
       "      <td>2</td>\n",
       "      <td>20.24</td>\n",
       "      <td>0.2</td>\n",
       "      <td>0.0</td>\n",
       "      <td>1</td>\n",
       "      <td>2</td>\n",
       "      <td>1</td>\n",
       "      <td>0</td>\n",
       "    </tr>\n",
       "    <tr>\n",
       "      <th>284</th>\n",
       "      <td>2</td>\n",
       "      <td>40.49</td>\n",
       "      <td>2</td>\n",
       "      <td>30.34</td>\n",
       "      <td>3.5</td>\n",
       "      <td>0.0</td>\n",
       "      <td>3</td>\n",
       "      <td>1</td>\n",
       "      <td>2</td>\n",
       "      <td>0</td>\n",
       "    </tr>\n",
       "    <tr>\n",
       "      <th>285</th>\n",
       "      <td>2</td>\n",
       "      <td>50.59</td>\n",
       "      <td>2</td>\n",
       "      <td>30.34</td>\n",
       "      <td>3.5</td>\n",
       "      <td>0.0</td>\n",
       "      <td>3</td>\n",
       "      <td>1</td>\n",
       "      <td>2</td>\n",
       "      <td>0</td>\n",
       "    </tr>\n",
       "  </tbody>\n",
       "</table>\n",
       "<p>286 rows × 10 columns</p>\n",
       "</div>"
      ],
      "text/plain": [
       "     class    age  menopause  tumor-size  inv-nodes  node-caps  deg-malig  \\\n",
       "0        1  30.39          3       30.34        0.2        0.0          3   \n",
       "1        1  40.49          3       20.24        0.2        0.0          2   \n",
       "2        1  40.49          3       20.24        0.2        0.0          2   \n",
       "3        1  60.69          2       15.19        0.2        0.0          2   \n",
       "4        1  40.49          3        0.40        0.2        0.0          2   \n",
       "..     ...    ...        ...         ...        ...        ...        ...   \n",
       "281      2  30.39          3       30.34        0.2        0.0          2   \n",
       "282      2  30.39          3       20.24        0.2        0.0          3   \n",
       "283      2  60.69          2       20.24        0.2        0.0          1   \n",
       "284      2  40.49          2       30.34        3.5        0.0          3   \n",
       "285      2  50.59          2       30.34        3.5        0.0          3   \n",
       "\n",
       "     breast  breast-quad  irradiant  \n",
       "0         1            2          0  \n",
       "1         2            3          0  \n",
       "2         1            2          0  \n",
       "3         2            1          0  \n",
       "4         2            4          0  \n",
       "..      ...          ...        ...  \n",
       "281       1            1          0  \n",
       "282       1            1          1  \n",
       "283       2            1          0  \n",
       "284       1            2          0  \n",
       "285       1            2          0  \n",
       "\n",
       "[286 rows x 10 columns]"
      ]
     },
     "execution_count": 25,
     "metadata": {},
     "output_type": "execute_result"
    }
   ],
   "source": [
    "df"
   ]
  },
  {
   "cell_type": "code",
   "execution_count": 26,
   "id": "55f3225d",
   "metadata": {},
   "outputs": [],
   "source": [
    "x = df.drop('irradiant', axis=1)"
   ]
  },
  {
   "cell_type": "code",
   "execution_count": 27,
   "id": "a7346cc7",
   "metadata": {},
   "outputs": [
    {
     "data": {
      "text/html": [
       "<div>\n",
       "<style scoped>\n",
       "    .dataframe tbody tr th:only-of-type {\n",
       "        vertical-align: middle;\n",
       "    }\n",
       "\n",
       "    .dataframe tbody tr th {\n",
       "        vertical-align: top;\n",
       "    }\n",
       "\n",
       "    .dataframe thead th {\n",
       "        text-align: right;\n",
       "    }\n",
       "</style>\n",
       "<table border=\"1\" class=\"dataframe\">\n",
       "  <thead>\n",
       "    <tr style=\"text-align: right;\">\n",
       "      <th></th>\n",
       "      <th>class</th>\n",
       "      <th>age</th>\n",
       "      <th>menopause</th>\n",
       "      <th>tumor-size</th>\n",
       "      <th>inv-nodes</th>\n",
       "      <th>node-caps</th>\n",
       "      <th>deg-malig</th>\n",
       "      <th>breast</th>\n",
       "      <th>breast-quad</th>\n",
       "    </tr>\n",
       "  </thead>\n",
       "  <tbody>\n",
       "    <tr>\n",
       "      <th>0</th>\n",
       "      <td>1</td>\n",
       "      <td>30.39</td>\n",
       "      <td>3</td>\n",
       "      <td>30.34</td>\n",
       "      <td>0.2</td>\n",
       "      <td>0.0</td>\n",
       "      <td>3</td>\n",
       "      <td>1</td>\n",
       "      <td>2</td>\n",
       "    </tr>\n",
       "    <tr>\n",
       "      <th>1</th>\n",
       "      <td>1</td>\n",
       "      <td>40.49</td>\n",
       "      <td>3</td>\n",
       "      <td>20.24</td>\n",
       "      <td>0.2</td>\n",
       "      <td>0.0</td>\n",
       "      <td>2</td>\n",
       "      <td>2</td>\n",
       "      <td>3</td>\n",
       "    </tr>\n",
       "    <tr>\n",
       "      <th>2</th>\n",
       "      <td>1</td>\n",
       "      <td>40.49</td>\n",
       "      <td>3</td>\n",
       "      <td>20.24</td>\n",
       "      <td>0.2</td>\n",
       "      <td>0.0</td>\n",
       "      <td>2</td>\n",
       "      <td>1</td>\n",
       "      <td>2</td>\n",
       "    </tr>\n",
       "    <tr>\n",
       "      <th>3</th>\n",
       "      <td>1</td>\n",
       "      <td>60.69</td>\n",
       "      <td>2</td>\n",
       "      <td>15.19</td>\n",
       "      <td>0.2</td>\n",
       "      <td>0.0</td>\n",
       "      <td>2</td>\n",
       "      <td>2</td>\n",
       "      <td>1</td>\n",
       "    </tr>\n",
       "    <tr>\n",
       "      <th>4</th>\n",
       "      <td>1</td>\n",
       "      <td>40.49</td>\n",
       "      <td>3</td>\n",
       "      <td>0.40</td>\n",
       "      <td>0.2</td>\n",
       "      <td>0.0</td>\n",
       "      <td>2</td>\n",
       "      <td>2</td>\n",
       "      <td>4</td>\n",
       "    </tr>\n",
       "    <tr>\n",
       "      <th>...</th>\n",
       "      <td>...</td>\n",
       "      <td>...</td>\n",
       "      <td>...</td>\n",
       "      <td>...</td>\n",
       "      <td>...</td>\n",
       "      <td>...</td>\n",
       "      <td>...</td>\n",
       "      <td>...</td>\n",
       "      <td>...</td>\n",
       "    </tr>\n",
       "    <tr>\n",
       "      <th>281</th>\n",
       "      <td>2</td>\n",
       "      <td>30.39</td>\n",
       "      <td>3</td>\n",
       "      <td>30.34</td>\n",
       "      <td>0.2</td>\n",
       "      <td>0.0</td>\n",
       "      <td>2</td>\n",
       "      <td>1</td>\n",
       "      <td>1</td>\n",
       "    </tr>\n",
       "    <tr>\n",
       "      <th>282</th>\n",
       "      <td>2</td>\n",
       "      <td>30.39</td>\n",
       "      <td>3</td>\n",
       "      <td>20.24</td>\n",
       "      <td>0.2</td>\n",
       "      <td>0.0</td>\n",
       "      <td>3</td>\n",
       "      <td>1</td>\n",
       "      <td>1</td>\n",
       "    </tr>\n",
       "    <tr>\n",
       "      <th>283</th>\n",
       "      <td>2</td>\n",
       "      <td>60.69</td>\n",
       "      <td>2</td>\n",
       "      <td>20.24</td>\n",
       "      <td>0.2</td>\n",
       "      <td>0.0</td>\n",
       "      <td>1</td>\n",
       "      <td>2</td>\n",
       "      <td>1</td>\n",
       "    </tr>\n",
       "    <tr>\n",
       "      <th>284</th>\n",
       "      <td>2</td>\n",
       "      <td>40.49</td>\n",
       "      <td>2</td>\n",
       "      <td>30.34</td>\n",
       "      <td>3.5</td>\n",
       "      <td>0.0</td>\n",
       "      <td>3</td>\n",
       "      <td>1</td>\n",
       "      <td>2</td>\n",
       "    </tr>\n",
       "    <tr>\n",
       "      <th>285</th>\n",
       "      <td>2</td>\n",
       "      <td>50.59</td>\n",
       "      <td>2</td>\n",
       "      <td>30.34</td>\n",
       "      <td>3.5</td>\n",
       "      <td>0.0</td>\n",
       "      <td>3</td>\n",
       "      <td>1</td>\n",
       "      <td>2</td>\n",
       "    </tr>\n",
       "  </tbody>\n",
       "</table>\n",
       "<p>286 rows × 9 columns</p>\n",
       "</div>"
      ],
      "text/plain": [
       "     class    age  menopause  tumor-size  inv-nodes  node-caps  deg-malig  \\\n",
       "0        1  30.39          3       30.34        0.2        0.0          3   \n",
       "1        1  40.49          3       20.24        0.2        0.0          2   \n",
       "2        1  40.49          3       20.24        0.2        0.0          2   \n",
       "3        1  60.69          2       15.19        0.2        0.0          2   \n",
       "4        1  40.49          3        0.40        0.2        0.0          2   \n",
       "..     ...    ...        ...         ...        ...        ...        ...   \n",
       "281      2  30.39          3       30.34        0.2        0.0          2   \n",
       "282      2  30.39          3       20.24        0.2        0.0          3   \n",
       "283      2  60.69          2       20.24        0.2        0.0          1   \n",
       "284      2  40.49          2       30.34        3.5        0.0          3   \n",
       "285      2  50.59          2       30.34        3.5        0.0          3   \n",
       "\n",
       "     breast  breast-quad  \n",
       "0         1            2  \n",
       "1         2            3  \n",
       "2         1            2  \n",
       "3         2            1  \n",
       "4         2            4  \n",
       "..      ...          ...  \n",
       "281       1            1  \n",
       "282       1            1  \n",
       "283       2            1  \n",
       "284       1            2  \n",
       "285       1            2  \n",
       "\n",
       "[286 rows x 9 columns]"
      ]
     },
     "execution_count": 27,
     "metadata": {},
     "output_type": "execute_result"
    }
   ],
   "source": [
    "x"
   ]
  },
  {
   "cell_type": "code",
   "execution_count": 28,
   "id": "2feeb803",
   "metadata": {},
   "outputs": [],
   "source": [
    "y = df.irradiant"
   ]
  },
  {
   "cell_type": "code",
   "execution_count": 29,
   "id": "9d6435e3",
   "metadata": {},
   "outputs": [
    {
     "data": {
      "text/plain": [
       "0      0\n",
       "1      0\n",
       "2      0\n",
       "3      0\n",
       "4      0\n",
       "      ..\n",
       "281    0\n",
       "282    1\n",
       "283    0\n",
       "284    0\n",
       "285    0\n",
       "Name: irradiant, Length: 286, dtype: int64"
      ]
     },
     "execution_count": 29,
     "metadata": {},
     "output_type": "execute_result"
    }
   ],
   "source": [
    "y"
   ]
  },
  {
   "cell_type": "code",
   "execution_count": 30,
   "id": "3e18eb61",
   "metadata": {},
   "outputs": [],
   "source": [
    "from sklearn.preprocessing import StandardScaler"
   ]
  },
  {
   "cell_type": "code",
   "execution_count": 31,
   "id": "d69855a0",
   "metadata": {},
   "outputs": [],
   "source": [
    "scaler = StandardScaler()"
   ]
  },
  {
   "cell_type": "code",
   "execution_count": 32,
   "id": "1476d49e",
   "metadata": {},
   "outputs": [],
   "source": [
    "x = scaler.fit_transform(x)"
   ]
  },
  {
   "cell_type": "code",
   "execution_count": 33,
   "id": "5109a901",
   "metadata": {},
   "outputs": [
    {
     "data": {
      "text/plain": [
       "array([[-0.65029653, -1.64777909,  0.91447105, ...,  1.29056424,\n",
       "        -0.93892436, -0.1405264 ],\n",
       "       [-0.65029653, -0.65772695,  0.91447105, ..., -0.0664261 ,\n",
       "         1.06504852,  0.69677673],\n",
       "       [-0.65029653, -0.65772695,  0.91447105, ..., -0.0664261 ,\n",
       "        -0.93892436, -0.1405264 ],\n",
       "       ...,\n",
       "       [ 1.53776002,  1.32237733, -0.91447105, ..., -1.42341644,\n",
       "         1.06504852, -0.97782952],\n",
       "       [ 1.53776002, -0.65772695, -0.91447105, ...,  1.29056424,\n",
       "        -0.93892436, -0.1405264 ],\n",
       "       [ 1.53776002,  0.33232519, -0.91447105, ...,  1.29056424,\n",
       "        -0.93892436, -0.1405264 ]])"
      ]
     },
     "execution_count": 33,
     "metadata": {},
     "output_type": "execute_result"
    }
   ],
   "source": [
    "x"
   ]
  },
  {
   "cell_type": "code",
   "execution_count": 34,
   "id": "02c60067",
   "metadata": {},
   "outputs": [],
   "source": [
    "from sklearn.model_selection import train_test_split"
   ]
  },
  {
   "cell_type": "code",
   "execution_count": 35,
   "id": "bd89d4ff",
   "metadata": {},
   "outputs": [],
   "source": [
    "x_train, x_test, y_train, y_test = train_test_split(x, y, test_size=0.1, random_state=42)"
   ]
  },
  {
   "cell_type": "code",
   "execution_count": 36,
   "id": "3e5c6115",
   "metadata": {},
   "outputs": [],
   "source": [
    "from keras.models import Sequential"
   ]
  },
  {
   "cell_type": "code",
   "execution_count": 37,
   "id": "1e379fbe",
   "metadata": {},
   "outputs": [],
   "source": [
    "from keras.layers import Dense"
   ]
  },
  {
   "cell_type": "code",
   "execution_count": 38,
   "id": "a8d68bab",
   "metadata": {},
   "outputs": [],
   "source": [
    "model = Sequential()\n",
    "model.add(Dense(14, activation = 'relu'))\n",
    "model.add(Dense(14, activation = 'relu'))\n",
    "model.add(Dense(1, activation = 'sigmoid'))"
   ]
  },
  {
   "cell_type": "code",
   "execution_count": 39,
   "id": "be4e9aaf",
   "metadata": {},
   "outputs": [],
   "source": [
    "model.compile(optimizer='Adam', loss='categorical_crossentropy', metrics='accuracy')"
   ]
  },
  {
   "cell_type": "code",
   "execution_count": 40,
   "id": "3bb063be",
   "metadata": {
    "scrolled": true
   },
   "outputs": [
    {
     "name": "stdout",
     "output_type": "stream",
     "text": [
      "Epoch 1/10\n",
      "47/47 [==============================] - 0s 5ms/step - loss: 0.0000e+00 - accuracy: 0.7835 - val_loss: 0.0000e+00 - val_accuracy: 0.6923\n",
      "Epoch 2/10\n",
      "47/47 [==============================] - 0s 3ms/step - loss: 0.0000e+00 - accuracy: 0.7835 - val_loss: 0.0000e+00 - val_accuracy: 0.6923\n",
      "Epoch 3/10\n",
      "47/47 [==============================] - 0s 3ms/step - loss: 0.0000e+00 - accuracy: 0.7835 - val_loss: 0.0000e+00 - val_accuracy: 0.6923\n",
      "Epoch 4/10\n",
      "47/47 [==============================] - 0s 3ms/step - loss: 0.0000e+00 - accuracy: 0.7835 - val_loss: 0.0000e+00 - val_accuracy: 0.6923\n",
      "Epoch 5/10\n",
      "47/47 [==============================] - 0s 3ms/step - loss: 0.0000e+00 - accuracy: 0.7835 - val_loss: 0.0000e+00 - val_accuracy: 0.6923\n",
      "Epoch 6/10\n",
      "47/47 [==============================] - 0s 3ms/step - loss: 0.0000e+00 - accuracy: 0.7835 - val_loss: 0.0000e+00 - val_accuracy: 0.6923\n",
      "Epoch 7/10\n",
      "47/47 [==============================] - 0s 3ms/step - loss: 0.0000e+00 - accuracy: 0.7835 - val_loss: 0.0000e+00 - val_accuracy: 0.6923\n",
      "Epoch 8/10\n",
      "47/47 [==============================] - 0s 3ms/step - loss: 0.0000e+00 - accuracy: 0.7835 - val_loss: 0.0000e+00 - val_accuracy: 0.6923\n",
      "Epoch 9/10\n",
      "47/47 [==============================] - 0s 3ms/step - loss: 0.0000e+00 - accuracy: 0.7835 - val_loss: 0.0000e+00 - val_accuracy: 0.6923\n",
      "Epoch 10/10\n",
      "47/47 [==============================] - 0s 3ms/step - loss: 0.0000e+00 - accuracy: 0.7835 - val_loss: 0.0000e+00 - val_accuracy: 0.6923\n"
     ]
    },
    {
     "data": {
      "text/plain": [
       "<keras.callbacks.History at 0x17e3e165850>"
      ]
     },
     "execution_count": 40,
     "metadata": {},
     "output_type": "execute_result"
    }
   ],
   "source": [
    "model.fit(x_train, y_train, epochs=10, batch_size=5, verbose=1, validation_split=0.1)"
   ]
  },
  {
   "cell_type": "code",
   "execution_count": 22,
   "id": "ad1513bd",
   "metadata": {},
   "outputs": [
    {
     "name": "stdout",
     "output_type": "stream",
     "text": [
      "1/1 [==============================] - 0s 17ms/step - loss: nan - accuracy: 0.6552\n",
      "Test results - Loss: nan - Accuracy: 0.6551724076271057%\n"
     ]
    }
   ],
   "source": [
    "test_results = model.evaluate(x_test, y_test, verbose=1)\n",
    "print(f'Test results - Loss: {test_results[0]} - Accuracy: {test_results[1]}%')"
   ]
  },
  {
   "cell_type": "code",
   "execution_count": null,
   "id": "599dbd9c",
   "metadata": {},
   "outputs": [],
   "source": []
  }
 ],
 "metadata": {
  "kernelspec": {
   "display_name": "Python 3 (ipykernel)",
   "language": "python",
   "name": "python3"
  },
  "language_info": {
   "codemirror_mode": {
    "name": "ipython",
    "version": 3
   },
   "file_extension": ".py",
   "mimetype": "text/x-python",
   "name": "python",
   "nbconvert_exporter": "python",
   "pygments_lexer": "ipython3",
   "version": "3.9.8"
  }
 },
 "nbformat": 4,
 "nbformat_minor": 5
}
