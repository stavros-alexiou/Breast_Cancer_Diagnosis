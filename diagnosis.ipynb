{
 "cells": [
  {
   "cell_type": "code",
   "execution_count": 67,
   "id": "b688eade",
   "metadata": {},
   "outputs": [],
   "source": [
    "import pandas as pd\n",
    "import numpy as np\n",
    "import matplotlib.pyplot as plt\n",
    "import seaborn as sns"
   ]
  },
  {
   "cell_type": "code",
   "execution_count": 2,
   "id": "8ffea8fb",
   "metadata": {},
   "outputs": [],
   "source": [
    "df = pd.read_csv('data.csv')"
   ]
  },
  {
   "cell_type": "code",
   "execution_count": 3,
   "id": "ac25ad49",
   "metadata": {},
   "outputs": [
    {
     "name": "stdout",
     "output_type": "stream",
     "text": [
      "                         count          mean           std          min  \\\n",
      "id                       569.0  3.037183e+07  1.250206e+08  8670.000000   \n",
      "radius_mean              569.0  1.412729e+01  3.524049e+00     6.981000   \n",
      "texture_mean             569.0  1.928965e+01  4.301036e+00     9.710000   \n",
      "perimeter_mean           569.0  9.196903e+01  2.429898e+01    43.790000   \n",
      "area_mean                569.0  6.548891e+02  3.519141e+02   143.500000   \n",
      "smoothness_mean          569.0  9.636028e-02  1.406413e-02     0.052630   \n",
      "compactness_mean         569.0  1.043410e-01  5.281276e-02     0.019380   \n",
      "concavity_mean           569.0  8.879932e-02  7.971981e-02     0.000000   \n",
      "concave points_mean      569.0  4.891915e-02  3.880284e-02     0.000000   \n",
      "symmetry_mean            569.0  1.811619e-01  2.741428e-02     0.106000   \n",
      "fractal_dimension_mean   569.0  6.279761e-02  7.060363e-03     0.049960   \n",
      "radius_se                569.0  4.051721e-01  2.773127e-01     0.111500   \n",
      "texture_se               569.0  1.216853e+00  5.516484e-01     0.360200   \n",
      "perimeter_se             569.0  2.866059e+00  2.021855e+00     0.757000   \n",
      "area_se                  569.0  4.033708e+01  4.549101e+01     6.802000   \n",
      "smoothness_se            569.0  7.040979e-03  3.002518e-03     0.001713   \n",
      "compactness_se           569.0  2.547814e-02  1.790818e-02     0.002252   \n",
      "concavity_se             569.0  3.189372e-02  3.018606e-02     0.000000   \n",
      "concave points_se        569.0  1.179614e-02  6.170285e-03     0.000000   \n",
      "symmetry_se              569.0  2.054230e-02  8.266372e-03     0.007882   \n",
      "fractal_dimension_se     569.0  3.794904e-03  2.646071e-03     0.000895   \n",
      "radius_worst             569.0  1.626919e+01  4.833242e+00     7.930000   \n",
      "texture_worst            569.0  2.567722e+01  6.146258e+00    12.020000   \n",
      "perimeter_worst          569.0  1.072612e+02  3.360254e+01    50.410000   \n",
      "area_worst               569.0  8.805831e+02  5.693570e+02   185.200000   \n",
      "smoothness_worst         569.0  1.323686e-01  2.283243e-02     0.071170   \n",
      "compactness_worst        569.0  2.542650e-01  1.573365e-01     0.027290   \n",
      "concavity_worst          569.0  2.721885e-01  2.086243e-01     0.000000   \n",
      "concave points_worst     569.0  1.146062e-01  6.573234e-02     0.000000   \n",
      "symmetry_worst           569.0  2.900756e-01  6.186747e-02     0.156500   \n",
      "fractal_dimension_worst  569.0  8.394582e-02  1.806127e-02     0.055040   \n",
      "Unnamed: 32                0.0           NaN           NaN          NaN   \n",
      "\n",
      "                                   25%            50%           75%  \\\n",
      "id                       869218.000000  906024.000000  8.813129e+06   \n",
      "radius_mean                  11.700000      13.370000  1.578000e+01   \n",
      "texture_mean                 16.170000      18.840000  2.180000e+01   \n",
      "perimeter_mean               75.170000      86.240000  1.041000e+02   \n",
      "area_mean                   420.300000     551.100000  7.827000e+02   \n",
      "smoothness_mean               0.086370       0.095870  1.053000e-01   \n",
      "compactness_mean              0.064920       0.092630  1.304000e-01   \n",
      "concavity_mean                0.029560       0.061540  1.307000e-01   \n",
      "concave points_mean           0.020310       0.033500  7.400000e-02   \n",
      "symmetry_mean                 0.161900       0.179200  1.957000e-01   \n",
      "fractal_dimension_mean        0.057700       0.061540  6.612000e-02   \n",
      "radius_se                     0.232400       0.324200  4.789000e-01   \n",
      "texture_se                    0.833900       1.108000  1.474000e+00   \n",
      "perimeter_se                  1.606000       2.287000  3.357000e+00   \n",
      "area_se                      17.850000      24.530000  4.519000e+01   \n",
      "smoothness_se                 0.005169       0.006380  8.146000e-03   \n",
      "compactness_se                0.013080       0.020450  3.245000e-02   \n",
      "concavity_se                  0.015090       0.025890  4.205000e-02   \n",
      "concave points_se             0.007638       0.010930  1.471000e-02   \n",
      "symmetry_se                   0.015160       0.018730  2.348000e-02   \n",
      "fractal_dimension_se          0.002248       0.003187  4.558000e-03   \n",
      "radius_worst                 13.010000      14.970000  1.879000e+01   \n",
      "texture_worst                21.080000      25.410000  2.972000e+01   \n",
      "perimeter_worst              84.110000      97.660000  1.254000e+02   \n",
      "area_worst                  515.300000     686.500000  1.084000e+03   \n",
      "smoothness_worst              0.116600       0.131300  1.460000e-01   \n",
      "compactness_worst             0.147200       0.211900  3.391000e-01   \n",
      "concavity_worst               0.114500       0.226700  3.829000e-01   \n",
      "concave points_worst          0.064930       0.099930  1.614000e-01   \n",
      "symmetry_worst                0.250400       0.282200  3.179000e-01   \n",
      "fractal_dimension_worst       0.071460       0.080040  9.208000e-02   \n",
      "Unnamed: 32                        NaN            NaN           NaN   \n",
      "\n",
      "                                  max  \n",
      "id                       9.113205e+08  \n",
      "radius_mean              2.811000e+01  \n",
      "texture_mean             3.928000e+01  \n",
      "perimeter_mean           1.885000e+02  \n",
      "area_mean                2.501000e+03  \n",
      "smoothness_mean          1.634000e-01  \n",
      "compactness_mean         3.454000e-01  \n",
      "concavity_mean           4.268000e-01  \n",
      "concave points_mean      2.012000e-01  \n",
      "symmetry_mean            3.040000e-01  \n",
      "fractal_dimension_mean   9.744000e-02  \n",
      "radius_se                2.873000e+00  \n",
      "texture_se               4.885000e+00  \n",
      "perimeter_se             2.198000e+01  \n",
      "area_se                  5.422000e+02  \n",
      "smoothness_se            3.113000e-02  \n",
      "compactness_se           1.354000e-01  \n",
      "concavity_se             3.960000e-01  \n",
      "concave points_se        5.279000e-02  \n",
      "symmetry_se              7.895000e-02  \n",
      "fractal_dimension_se     2.984000e-02  \n",
      "radius_worst             3.604000e+01  \n",
      "texture_worst            4.954000e+01  \n",
      "perimeter_worst          2.512000e+02  \n",
      "area_worst               4.254000e+03  \n",
      "smoothness_worst         2.226000e-01  \n",
      "compactness_worst        1.058000e+00  \n",
      "concavity_worst          1.252000e+00  \n",
      "concave points_worst     2.910000e-01  \n",
      "symmetry_worst           6.638000e-01  \n",
      "fractal_dimension_worst  2.075000e-01  \n",
      "Unnamed: 32                       NaN  \n"
     ]
    }
   ],
   "source": [
    "print(df.describe().T)"
   ]
  },
  {
   "cell_type": "code",
   "execution_count": 4,
   "id": "98f7c51b",
   "metadata": {},
   "outputs": [],
   "source": [
    "# check for missing data"
   ]
  },
  {
   "cell_type": "code",
   "execution_count": 5,
   "id": "7540407e",
   "metadata": {},
   "outputs": [
    {
     "name": "stdout",
     "output_type": "stream",
     "text": [
      "id                           0\n",
      "diagnosis                    0\n",
      "radius_mean                  0\n",
      "texture_mean                 0\n",
      "perimeter_mean               0\n",
      "area_mean                    0\n",
      "smoothness_mean              0\n",
      "compactness_mean             0\n",
      "concavity_mean               0\n",
      "concave points_mean          0\n",
      "symmetry_mean                0\n",
      "fractal_dimension_mean       0\n",
      "radius_se                    0\n",
      "texture_se                   0\n",
      "perimeter_se                 0\n",
      "area_se                      0\n",
      "smoothness_se                0\n",
      "compactness_se               0\n",
      "concavity_se                 0\n",
      "concave points_se            0\n",
      "symmetry_se                  0\n",
      "fractal_dimension_se         0\n",
      "radius_worst                 0\n",
      "texture_worst                0\n",
      "perimeter_worst              0\n",
      "area_worst                   0\n",
      "smoothness_worst             0\n",
      "compactness_worst            0\n",
      "concavity_worst              0\n",
      "concave points_worst         0\n",
      "symmetry_worst               0\n",
      "fractal_dimension_worst      0\n",
      "Unnamed: 32                569\n",
      "dtype: int64\n"
     ]
    }
   ],
   "source": [
    "print(df.isnull().sum())"
   ]
  },
  {
   "cell_type": "code",
   "execution_count": 6,
   "id": "b563b4c3",
   "metadata": {},
   "outputs": [
    {
     "name": "stdout",
     "output_type": "stream",
     "text": [
      "id                           int64\n",
      "diagnosis                   object\n",
      "radius_mean                float64\n",
      "texture_mean               float64\n",
      "perimeter_mean             float64\n",
      "area_mean                  float64\n",
      "smoothness_mean            float64\n",
      "compactness_mean           float64\n",
      "concavity_mean             float64\n",
      "concave points_mean        float64\n",
      "symmetry_mean              float64\n",
      "fractal_dimension_mean     float64\n",
      "radius_se                  float64\n",
      "texture_se                 float64\n",
      "perimeter_se               float64\n",
      "area_se                    float64\n",
      "smoothness_se              float64\n",
      "compactness_se             float64\n",
      "concavity_se               float64\n",
      "concave points_se          float64\n",
      "symmetry_se                float64\n",
      "fractal_dimension_se       float64\n",
      "radius_worst               float64\n",
      "texture_worst              float64\n",
      "perimeter_worst            float64\n",
      "area_worst                 float64\n",
      "smoothness_worst           float64\n",
      "compactness_worst          float64\n",
      "concavity_worst            float64\n",
      "concave points_worst       float64\n",
      "symmetry_worst             float64\n",
      "fractal_dimension_worst    float64\n",
      "Unnamed: 32                float64\n",
      "dtype: object\n"
     ]
    }
   ],
   "source": [
    "print(df.dtypes)"
   ]
  },
  {
   "cell_type": "code",
   "execution_count": 7,
   "id": "3f270e80",
   "metadata": {},
   "outputs": [
    {
     "data": {
      "text/plain": [
       "<AxesSubplot:xlabel='diagnosis', ylabel='count'>"
      ]
     },
     "execution_count": 7,
     "metadata": {},
     "output_type": "execute_result"
    },
    {
     "data": {
      "image/png": "[encoded data removed]",
      "text/plain": [
       "<Figure size 432x288 with 1 Axes>"
      ]
     },
     "metadata": {
      "needs_background": "light"
     },
     "output_type": "display_data"
    }
   ],
   "source": [
    "sns.countplot(x='diagnosis', data=df)"
   ]
  },
  {
   "cell_type": "code",
   "execution_count": 8,
   "id": "5c98d916",
   "metadata": {},
   "outputs": [],
   "source": [
    "# replace categorical values with numbers"
   ]
  },
  {
   "cell_type": "code",
   "execution_count": 9,
   "id": "c527a404",
   "metadata": {},
   "outputs": [
    {
     "name": "stdout",
     "output_type": "stream",
     "text": [
      "Distribution of data:  B    357\n",
      "M    212\n",
      "Name: diagnosis, dtype: int64\n"
     ]
    }
   ],
   "source": [
    "print('Distribution of data: ', df['diagnosis'].value_counts())"
   ]
  },
  {
   "cell_type": "code",
   "execution_count": 10,
   "id": "95c69e86",
   "metadata": {},
   "outputs": [],
   "source": [
    "# define the dependent variable that needs to be predicted (diagnosis)"
   ]
  },
  {
   "cell_type": "code",
   "execution_count": 11,
   "id": "fa414b48",
   "metadata": {},
   "outputs": [],
   "source": [
    "y = df['diagnosis'].values"
   ]
  },
  {
   "cell_type": "code",
   "execution_count": 12,
   "id": "3af7b82d",
   "metadata": {},
   "outputs": [
    {
     "data": {
      "text/plain": [
       "array(['M', 'M', 'M', 'M', 'M', 'M', 'M', 'M', 'M', 'M', 'M', 'M', 'M',\n",
       "       'M', 'M', 'M', 'M', 'M', 'M', 'B', 'B', 'B', 'M', 'M', 'M', 'M',\n",
       "       'M', 'M', 'M', 'M', 'M', 'M', 'M', 'M', 'M', 'M', 'M', 'B', 'M',\n",
       "       'M', 'M', 'M', 'M', 'M', 'M', 'M', 'B', 'M', 'B', 'B', 'B', 'B',\n",
       "       'B', 'M', 'M', 'B', 'M', 'M', 'B', 'B', 'B', 'B', 'M', 'B', 'M',\n",
       "       'M', 'B', 'B', 'B', 'B', 'M', 'B', 'M', 'M', 'B', 'M', 'B', 'M',\n",
       "       'M', 'B', 'B', 'B', 'M', 'M', 'B', 'M', 'M', 'M', 'B', 'B', 'B',\n",
       "       'M', 'B', 'B', 'M', 'M', 'B', 'B', 'B', 'M', 'M', 'B', 'B', 'B',\n",
       "       'B', 'M', 'B', 'B', 'M', 'B', 'B', 'B', 'B', 'B', 'B', 'B', 'B',\n",
       "       'M', 'M', 'M', 'B', 'M', 'M', 'B', 'B', 'B', 'M', 'M', 'B', 'M',\n",
       "       'B', 'M', 'M', 'B', 'M', 'M', 'B', 'B', 'M', 'B', 'B', 'M', 'B',\n",
       "       'B', 'B', 'B', 'M', 'B', 'B', 'B', 'B', 'B', 'B', 'B', 'B', 'B',\n",
       "       'M', 'B', 'B', 'B', 'B', 'M', 'M', 'B', 'M', 'B', 'B', 'M', 'M',\n",
       "       'B', 'B', 'M', 'M', 'B', 'B', 'B', 'B', 'M', 'B', 'B', 'M', 'M',\n",
       "       'M', 'B', 'M', 'B', 'M', 'B', 'B', 'B', 'M', 'B', 'B', 'M', 'M',\n",
       "       'B', 'M', 'M', 'M', 'M', 'B', 'M', 'M', 'M', 'B', 'M', 'B', 'M',\n",
       "       'B', 'B', 'M', 'B', 'M', 'M', 'M', 'M', 'B', 'B', 'M', 'M', 'B',\n",
       "       'B', 'B', 'M', 'B', 'B', 'B', 'B', 'B', 'M', 'M', 'B', 'B', 'M',\n",
       "       'B', 'B', 'M', 'M', 'B', 'M', 'B', 'B', 'B', 'B', 'M', 'B', 'B',\n",
       "       'B', 'B', 'B', 'M', 'B', 'M', 'M', 'M', 'M', 'M', 'M', 'M', 'M',\n",
       "       'M', 'M', 'M', 'M', 'M', 'M', 'B', 'B', 'B', 'B', 'B', 'B', 'M',\n",
       "       'B', 'M', 'B', 'B', 'M', 'B', 'B', 'M', 'B', 'M', 'M', 'B', 'B',\n",
       "       'B', 'B', 'B', 'B', 'B', 'B', 'B', 'B', 'B', 'B', 'B', 'M', 'B',\n",
       "       'B', 'M', 'B', 'M', 'B', 'B', 'B', 'B', 'B', 'B', 'B', 'B', 'B',\n",
       "       'B', 'B', 'B', 'B', 'B', 'M', 'B', 'B', 'B', 'M', 'B', 'M', 'B',\n",
       "       'B', 'B', 'B', 'M', 'M', 'M', 'B', 'B', 'B', 'B', 'M', 'B', 'M',\n",
       "       'B', 'M', 'B', 'B', 'B', 'M', 'B', 'B', 'B', 'B', 'B', 'B', 'B',\n",
       "       'M', 'M', 'M', 'B', 'B', 'B', 'B', 'B', 'B', 'B', 'B', 'B', 'B',\n",
       "       'B', 'M', 'M', 'B', 'M', 'M', 'M', 'B', 'M', 'M', 'B', 'B', 'B',\n",
       "       'B', 'B', 'M', 'B', 'B', 'B', 'B', 'B', 'M', 'B', 'B', 'B', 'M',\n",
       "       'B', 'B', 'M', 'M', 'B', 'B', 'B', 'B', 'B', 'B', 'M', 'B', 'B',\n",
       "       'B', 'B', 'B', 'B', 'B', 'M', 'B', 'B', 'B', 'B', 'B', 'M', 'B',\n",
       "       'B', 'M', 'B', 'B', 'B', 'B', 'B', 'B', 'B', 'B', 'B', 'B', 'B',\n",
       "       'B', 'M', 'B', 'M', 'M', 'B', 'M', 'B', 'B', 'B', 'B', 'B', 'M',\n",
       "       'B', 'B', 'M', 'B', 'M', 'B', 'B', 'M', 'B', 'M', 'B', 'B', 'B',\n",
       "       'B', 'B', 'B', 'B', 'B', 'M', 'M', 'B', 'B', 'B', 'B', 'B', 'B',\n",
       "       'M', 'B', 'B', 'B', 'B', 'B', 'B', 'B', 'B', 'B', 'B', 'M', 'B',\n",
       "       'B', 'B', 'B', 'B', 'B', 'B', 'M', 'B', 'M', 'B', 'B', 'M', 'B',\n",
       "       'B', 'B', 'B', 'B', 'M', 'M', 'B', 'M', 'B', 'M', 'B', 'B', 'B',\n",
       "       'B', 'B', 'M', 'B', 'B', 'M', 'B', 'M', 'B', 'M', 'M', 'B', 'B',\n",
       "       'B', 'M', 'B', 'B', 'B', 'B', 'B', 'B', 'B', 'B', 'B', 'B', 'B',\n",
       "       'M', 'B', 'M', 'M', 'B', 'B', 'B', 'B', 'B', 'B', 'B', 'B', 'B',\n",
       "       'B', 'B', 'B', 'B', 'B', 'B', 'B', 'B', 'B', 'B', 'B', 'B', 'B',\n",
       "       'B', 'B', 'B', 'M', 'M', 'M', 'M', 'M', 'M', 'B'], dtype=object)"
      ]
     },
     "execution_count": 12,
     "metadata": {},
     "output_type": "execute_result"
    }
   ],
   "source": [
    "y"
   ]
  },
  {
   "cell_type": "code",
   "execution_count": 13,
   "id": "6a5a7609",
   "metadata": {},
   "outputs": [
    {
     "name": "stdout",
     "output_type": "stream",
     "text": [
      "Labels before encoding are:  ['B' 'M']\n"
     ]
    }
   ],
   "source": [
    "print('Labels before encoding are: ', np.unique(y))"
   ]
  },
  {
   "cell_type": "code",
   "execution_count": 14,
   "id": "1e0fc0d7",
   "metadata": {},
   "outputs": [],
   "source": [
    "# encoding categorical data from text (B, M) to integers (0, 1)"
   ]
  },
  {
   "cell_type": "code",
   "execution_count": 15,
   "id": "59472dd8",
   "metadata": {},
   "outputs": [],
   "source": [
    "from sklearn.preprocessing import LabelEncoder"
   ]
  },
  {
   "cell_type": "code",
   "execution_count": 16,
   "id": "3e44faf2",
   "metadata": {},
   "outputs": [],
   "source": [
    "le = LabelEncoder()"
   ]
  },
  {
   "cell_type": "code",
   "execution_count": 17,
   "id": "ce3e7153",
   "metadata": {},
   "outputs": [],
   "source": [
    "Y = le.fit_transform(y)"
   ]
  },
  {
   "cell_type": "code",
   "execution_count": 18,
   "id": "85c610a8",
   "metadata": {},
   "outputs": [
    {
     "name": "stdout",
     "output_type": "stream",
     "text": [
      "Labels after encoding are:  [0 1]\n"
     ]
    }
   ],
   "source": [
    "print('Labels after encoding are: ', np.unique(Y))"
   ]
  },
  {
   "cell_type": "code",
   "execution_count": 19,
   "id": "29efdd6e",
   "metadata": {},
   "outputs": [],
   "source": [
    "# define and normalize/scale values"
   ]
  },
  {
   "cell_type": "code",
   "execution_count": 31,
   "id": "0f0a2f5a",
   "metadata": {},
   "outputs": [],
   "source": [
    "X = df.drop(['id', 'diagnosis', 'Unnamed: 32'], axis=1)"
   ]
  },
  {
   "cell_type": "code",
   "execution_count": 35,
   "id": "04c78268",
   "metadata": {},
   "outputs": [
    {
     "name": "stdout",
     "output_type": "stream",
     "text": [
      "                         count        mean         std         min  \\\n",
      "radius_mean              569.0   14.127292    3.524049    6.981000   \n",
      "texture_mean             569.0   19.289649    4.301036    9.710000   \n",
      "perimeter_mean           569.0   91.969033   24.298981   43.790000   \n",
      "area_mean                569.0  654.889104  351.914129  143.500000   \n",
      "smoothness_mean          569.0    0.096360    0.014064    0.052630   \n",
      "compactness_mean         569.0    0.104341    0.052813    0.019380   \n",
      "concavity_mean           569.0    0.088799    0.079720    0.000000   \n",
      "concave points_mean      569.0    0.048919    0.038803    0.000000   \n",
      "symmetry_mean            569.0    0.181162    0.027414    0.106000   \n",
      "fractal_dimension_mean   569.0    0.062798    0.007060    0.049960   \n",
      "radius_se                569.0    0.405172    0.277313    0.111500   \n",
      "texture_se               569.0    1.216853    0.551648    0.360200   \n",
      "perimeter_se             569.0    2.866059    2.021855    0.757000   \n",
      "area_se                  569.0   40.337079   45.491006    6.802000   \n",
      "smoothness_se            569.0    0.007041    0.003003    0.001713   \n",
      "compactness_se           569.0    0.025478    0.017908    0.002252   \n",
      "concavity_se             569.0    0.031894    0.030186    0.000000   \n",
      "concave points_se        569.0    0.011796    0.006170    0.000000   \n",
      "symmetry_se              569.0    0.020542    0.008266    0.007882   \n",
      "fractal_dimension_se     569.0    0.003795    0.002646    0.000895   \n",
      "radius_worst             569.0   16.269190    4.833242    7.930000   \n",
      "texture_worst            569.0   25.677223    6.146258   12.020000   \n",
      "perimeter_worst          569.0  107.261213   33.602542   50.410000   \n",
      "area_worst               569.0  880.583128  569.356993  185.200000   \n",
      "smoothness_worst         569.0    0.132369    0.022832    0.071170   \n",
      "compactness_worst        569.0    0.254265    0.157336    0.027290   \n",
      "concavity_worst          569.0    0.272188    0.208624    0.000000   \n",
      "concave points_worst     569.0    0.114606    0.065732    0.000000   \n",
      "symmetry_worst           569.0    0.290076    0.061867    0.156500   \n",
      "fractal_dimension_worst  569.0    0.083946    0.018061    0.055040   \n",
      "\n",
      "                                25%         50%          75%         max  \n",
      "radius_mean               11.700000   13.370000    15.780000    28.11000  \n",
      "texture_mean              16.170000   18.840000    21.800000    39.28000  \n",
      "perimeter_mean            75.170000   86.240000   104.100000   188.50000  \n",
      "area_mean                420.300000  551.100000   782.700000  2501.00000  \n",
      "smoothness_mean            0.086370    0.095870     0.105300     0.16340  \n",
      "compactness_mean           0.064920    0.092630     0.130400     0.34540  \n",
      "concavity_mean             0.029560    0.061540     0.130700     0.42680  \n",
      "concave points_mean        0.020310    0.033500     0.074000     0.20120  \n",
      "symmetry_mean              0.161900    0.179200     0.195700     0.30400  \n",
      "fractal_dimension_mean     0.057700    0.061540     0.066120     0.09744  \n",
      "radius_se                  0.232400    0.324200     0.478900     2.87300  \n",
      "texture_se                 0.833900    1.108000     1.474000     4.88500  \n",
      "perimeter_se               1.606000    2.287000     3.357000    21.98000  \n",
      "area_se                   17.850000   24.530000    45.190000   542.20000  \n",
      "smoothness_se              0.005169    0.006380     0.008146     0.03113  \n",
      "compactness_se             0.013080    0.020450     0.032450     0.13540  \n",
      "concavity_se               0.015090    0.025890     0.042050     0.39600  \n",
      "concave points_se          0.007638    0.010930     0.014710     0.05279  \n",
      "symmetry_se                0.015160    0.018730     0.023480     0.07895  \n",
      "fractal_dimension_se       0.002248    0.003187     0.004558     0.02984  \n",
      "radius_worst              13.010000   14.970000    18.790000    36.04000  \n",
      "texture_worst             21.080000   25.410000    29.720000    49.54000  \n",
      "perimeter_worst           84.110000   97.660000   125.400000   251.20000  \n",
      "area_worst               515.300000  686.500000  1084.000000  4254.00000  \n",
      "smoothness_worst           0.116600    0.131300     0.146000     0.22260  \n",
      "compactness_worst          0.147200    0.211900     0.339100     1.05800  \n",
      "concavity_worst            0.114500    0.226700     0.382900     1.25200  \n",
      "concave points_worst       0.064930    0.099930     0.161400     0.29100  \n",
      "symmetry_worst             0.250400    0.282200     0.317900     0.66380  \n",
      "fractal_dimension_worst    0.071460    0.080040     0.092080     0.20750  \n"
     ]
    }
   ],
   "source": [
    "print(X.describe().T) #needs scaling"
   ]
  },
  {
   "cell_type": "code",
   "execution_count": 36,
   "id": "2f837c02",
   "metadata": {},
   "outputs": [],
   "source": [
    "# X needs scalling, bring everything in the same range"
   ]
  },
  {
   "cell_type": "code",
   "execution_count": 38,
   "id": "78165d2f",
   "metadata": {},
   "outputs": [],
   "source": [
    "# scale/normalize the values to bring them to similar range"
   ]
  },
  {
   "cell_type": "code",
   "execution_count": 39,
   "id": "59084cfa",
   "metadata": {},
   "outputs": [],
   "source": [
    "from sklearn.preprocessing import MinMaxScaler"
   ]
  },
  {
   "cell_type": "code",
   "execution_count": 41,
   "id": "509c65a5",
   "metadata": {},
   "outputs": [],
   "source": [
    "scaler = MinMaxScaler()\n",
    "scaler.fit(X)\n",
    "X = scaler.transform(X)"
   ]
  },
  {
   "cell_type": "code",
   "execution_count": 42,
   "id": "8ec27dcb",
   "metadata": {},
   "outputs": [
    {
     "name": "stdout",
     "output_type": "stream",
     "text": [
      "[[0.52103744 0.0226581  0.54598853 ... 0.91202749 0.59846245 0.41886396]\n",
      " [0.64314449 0.27257355 0.61578329 ... 0.63917526 0.23358959 0.22287813]\n",
      " [0.60149557 0.3902604  0.59574321 ... 0.83505155 0.40370589 0.21343303]\n",
      " ...\n",
      " [0.45525108 0.62123774 0.44578813 ... 0.48728522 0.12872068 0.1519087 ]\n",
      " [0.64456434 0.66351031 0.66553797 ... 0.91065292 0.49714173 0.45231536]\n",
      " [0.03686876 0.50152181 0.02853984 ... 0.         0.25744136 0.10068215]]\n"
     ]
    }
   ],
   "source": [
    "print(X) "
   ]
  },
  {
   "cell_type": "code",
   "execution_count": 44,
   "id": "e19a3562",
   "metadata": {},
   "outputs": [],
   "source": [
    "# split data into training and testing to verify accuracy after fitting the model"
   ]
  },
  {
   "cell_type": "code",
   "execution_count": 45,
   "id": "4614b3df",
   "metadata": {},
   "outputs": [],
   "source": [
    "from sklearn.model_selection import train_test_split"
   ]
  },
  {
   "cell_type": "code",
   "execution_count": 52,
   "id": "78b85119",
   "metadata": {},
   "outputs": [],
   "source": [
    "X_train, X_test, Y_train, Y_test = train_test_split(X, Y, test_size = 0.1, random_state=42)"
   ]
  },
  {
   "cell_type": "code",
   "execution_count": 53,
   "id": "48f6bc6f",
   "metadata": {},
   "outputs": [
    {
     "name": "stdout",
     "output_type": "stream",
     "text": [
      "Shape of training data is:  (512, 30)\n",
      "Shape of testing data is:  (57, 30)\n"
     ]
    }
   ],
   "source": [
    "# check the shape of the traing and testing data\n",
    "print('Shape of training data is: ', X_train.shape) \n",
    "print('Shape of testing data is: ', X_test.shape)"
   ]
  },
  {
   "cell_type": "code",
   "execution_count": 55,
   "id": "054fc6cd",
   "metadata": {},
   "outputs": [],
   "source": [
    "from keras.models import Sequential\n",
    "from keras.layers import Dense, Activation, Dropout"
   ]
  },
  {
   "cell_type": "code",
   "execution_count": 58,
   "id": "10b1fe95",
   "metadata": {},
   "outputs": [],
   "source": [
    "# defining the model\n",
    "model = Sequential()\n",
    "model.add(Dense(16, input_dim=30, activation='relu'))\n",
    "model.add(Dropout(0.2))\n",
    "model.add(Dense(1))\n",
    "model.add(Activation('sigmoid'))\n",
    "model.compile(loss='binary_crossentropy', optimizer='adam', metrics=['accuracy'])"
   ]
  },
  {
   "cell_type": "code",
   "execution_count": 59,
   "id": "97d5e1e2",
   "metadata": {},
   "outputs": [
    {
     "name": "stdout",
     "output_type": "stream",
     "text": [
      "Model: \"sequential_2\"\n",
      "_________________________________________________________________\n",
      " Layer (type)                Output Shape              Param #   \n",
      "=================================================================\n",
      " dense_3 (Dense)             (None, 16)                496       \n",
      "                                                                 \n",
      " dropout_1 (Dropout)         (None, 16)                0         \n",
      "                                                                 \n",
      " dense_4 (Dense)             (None, 1)                 17        \n",
      "                                                                 \n",
      " activation (Activation)     (None, 1)                 0         \n",
      "                                                                 \n",
      "=================================================================\n",
      "Total params: 513\n",
      "Trainable params: 513\n",
      "Non-trainable params: 0\n",
      "_________________________________________________________________\n",
      "None\n"
     ]
    }
   ],
   "source": [
    "print(model.summary())"
   ]
  },
  {
   "cell_type": "code",
   "execution_count": 65,
   "id": "bcfe6c7e",
   "metadata": {},
   "outputs": [
    {
     "name": "stdout",
     "output_type": "stream",
     "text": [
      "Epoch 1/100\n",
      "8/8 [==============================] - 1s 19ms/step - loss: 0.6828 - accuracy: 0.5996 - val_loss: 0.6474 - val_accuracy: 0.7018\n",
      "Epoch 2/100\n",
      "8/8 [==============================] - 0s 5ms/step - loss: 0.6748 - accuracy: 0.6348 - val_loss: 0.6323 - val_accuracy: 0.7368\n",
      "Epoch 3/100\n",
      "8/8 [==============================] - 0s 4ms/step - loss: 0.6584 - accuracy: 0.6816 - val_loss: 0.6176 - val_accuracy: 0.8246\n",
      "Epoch 4/100\n",
      "8/8 [==============================] - 0s 5ms/step - loss: 0.6455 - accuracy: 0.6855 - val_loss: 0.6031 - val_accuracy: 0.8772\n",
      "Epoch 5/100\n",
      "8/8 [==============================] - 0s 5ms/step - loss: 0.6341 - accuracy: 0.7383 - val_loss: 0.5898 - val_accuracy: 0.8772\n",
      "Epoch 6/100\n",
      "8/8 [==============================] - 0s 5ms/step - loss: 0.6186 - accuracy: 0.7754 - val_loss: 0.5761 - val_accuracy: 0.9123\n",
      "Epoch 7/100\n",
      "8/8 [==============================] - 0s 4ms/step - loss: 0.6074 - accuracy: 0.7969 - val_loss: 0.5613 - val_accuracy: 0.9123\n",
      "Epoch 8/100\n",
      "8/8 [==============================] - 0s 4ms/step - loss: 0.5958 - accuracy: 0.8125 - val_loss: 0.5462 - val_accuracy: 0.9298\n",
      "Epoch 9/100\n",
      "8/8 [==============================] - 0s 5ms/step - loss: 0.5764 - accuracy: 0.8418 - val_loss: 0.5313 - val_accuracy: 0.9474\n",
      "Epoch 10/100\n",
      "8/8 [==============================] - 0s 5ms/step - loss: 0.5673 - accuracy: 0.8418 - val_loss: 0.5174 - val_accuracy: 0.9474\n",
      "Epoch 11/100\n",
      "8/8 [==============================] - 0s 4ms/step - loss: 0.5486 - accuracy: 0.8516 - val_loss: 0.5021 - val_accuracy: 0.9474\n",
      "Epoch 12/100\n",
      "8/8 [==============================] - 0s 4ms/step - loss: 0.5398 - accuracy: 0.8496 - val_loss: 0.4879 - val_accuracy: 0.9474\n",
      "Epoch 13/100\n",
      "8/8 [==============================] - 0s 4ms/step - loss: 0.5294 - accuracy: 0.8633 - val_loss: 0.4718 - val_accuracy: 0.9474\n",
      "Epoch 14/100\n",
      "8/8 [==============================] - 0s 5ms/step - loss: 0.5090 - accuracy: 0.8672 - val_loss: 0.4568 - val_accuracy: 0.9474\n",
      "Epoch 15/100\n",
      "8/8 [==============================] - 0s 4ms/step - loss: 0.4963 - accuracy: 0.8711 - val_loss: 0.4419 - val_accuracy: 0.9474\n",
      "Epoch 16/100\n",
      "8/8 [==============================] - 0s 4ms/step - loss: 0.4908 - accuracy: 0.8457 - val_loss: 0.4260 - val_accuracy: 0.9474\n",
      "Epoch 17/100\n",
      "8/8 [==============================] - 0s 4ms/step - loss: 0.4794 - accuracy: 0.8496 - val_loss: 0.4133 - val_accuracy: 0.9474\n",
      "Epoch 18/100\n",
      "8/8 [==============================] - 0s 5ms/step - loss: 0.4594 - accuracy: 0.8711 - val_loss: 0.4026 - val_accuracy: 0.9474\n",
      "Epoch 19/100\n",
      "8/8 [==============================] - 0s 5ms/step - loss: 0.4517 - accuracy: 0.8828 - val_loss: 0.3875 - val_accuracy: 0.9474\n",
      "Epoch 20/100\n",
      "8/8 [==============================] - 0s 4ms/step - loss: 0.4345 - accuracy: 0.8809 - val_loss: 0.3747 - val_accuracy: 0.9474\n",
      "Epoch 21/100\n",
      "8/8 [==============================] - 0s 5ms/step - loss: 0.4243 - accuracy: 0.8828 - val_loss: 0.3600 - val_accuracy: 0.9474\n",
      "Epoch 22/100\n",
      "8/8 [==============================] - 0s 4ms/step - loss: 0.4114 - accuracy: 0.8848 - val_loss: 0.3475 - val_accuracy: 0.9474\n",
      "Epoch 23/100\n",
      "8/8 [==============================] - 0s 4ms/step - loss: 0.3940 - accuracy: 0.8926 - val_loss: 0.3354 - val_accuracy: 0.9474\n",
      "Epoch 24/100\n",
      "8/8 [==============================] - 0s 4ms/step - loss: 0.3849 - accuracy: 0.8906 - val_loss: 0.3231 - val_accuracy: 0.9474\n",
      "Epoch 25/100\n",
      "8/8 [==============================] - 0s 4ms/step - loss: 0.3798 - accuracy: 0.8906 - val_loss: 0.3128 - val_accuracy: 0.9649\n",
      "Epoch 26/100\n",
      "8/8 [==============================] - 0s 4ms/step - loss: 0.3687 - accuracy: 0.9004 - val_loss: 0.3004 - val_accuracy: 0.9474\n",
      "Epoch 27/100\n",
      "8/8 [==============================] - 0s 5ms/step - loss: 0.3629 - accuracy: 0.8809 - val_loss: 0.2906 - val_accuracy: 0.9474\n",
      "Epoch 28/100\n",
      "8/8 [==============================] - 0s 5ms/step - loss: 0.3511 - accuracy: 0.9004 - val_loss: 0.2829 - val_accuracy: 0.9649\n",
      "Epoch 29/100\n",
      "8/8 [==============================] - 0s 5ms/step - loss: 0.3333 - accuracy: 0.9082 - val_loss: 0.2749 - val_accuracy: 0.9649\n",
      "Epoch 30/100\n",
      "8/8 [==============================] - 0s 5ms/step - loss: 0.3324 - accuracy: 0.9043 - val_loss: 0.2649 - val_accuracy: 0.9649\n",
      "Epoch 31/100\n",
      "8/8 [==============================] - 0s 5ms/step - loss: 0.3128 - accuracy: 0.8984 - val_loss: 0.2562 - val_accuracy: 0.9649\n",
      "Epoch 32/100\n",
      "8/8 [==============================] - 0s 4ms/step - loss: 0.3169 - accuracy: 0.9062 - val_loss: 0.2478 - val_accuracy: 0.9474\n",
      "Epoch 33/100\n",
      "8/8 [==============================] - 0s 5ms/step - loss: 0.3015 - accuracy: 0.9160 - val_loss: 0.2412 - val_accuracy: 0.9649\n",
      "Epoch 34/100\n",
      "8/8 [==============================] - 0s 5ms/step - loss: 0.2948 - accuracy: 0.9082 - val_loss: 0.2351 - val_accuracy: 0.9649\n",
      "Epoch 35/100\n",
      "8/8 [==============================] - 0s 5ms/step - loss: 0.3006 - accuracy: 0.8965 - val_loss: 0.2291 - val_accuracy: 0.9649\n",
      "Epoch 36/100\n",
      "8/8 [==============================] - 0s 5ms/step - loss: 0.2797 - accuracy: 0.9082 - val_loss: 0.2233 - val_accuracy: 0.9649\n",
      "Epoch 37/100\n",
      "8/8 [==============================] - 0s 5ms/step - loss: 0.2811 - accuracy: 0.9043 - val_loss: 0.2185 - val_accuracy: 0.9649\n",
      "Epoch 38/100\n",
      "8/8 [==============================] - 0s 5ms/step - loss: 0.2655 - accuracy: 0.9082 - val_loss: 0.2123 - val_accuracy: 0.9649\n",
      "Epoch 39/100\n",
      "8/8 [==============================] - 0s 5ms/step - loss: 0.2727 - accuracy: 0.9141 - val_loss: 0.2088 - val_accuracy: 0.9474\n",
      "Epoch 40/100\n",
      "8/8 [==============================] - 0s 5ms/step - loss: 0.2658 - accuracy: 0.9180 - val_loss: 0.2050 - val_accuracy: 0.9474\n",
      "Epoch 41/100\n",
      "8/8 [==============================] - 0s 5ms/step - loss: 0.2602 - accuracy: 0.9160 - val_loss: 0.1993 - val_accuracy: 0.9474\n",
      "Epoch 42/100\n",
      "8/8 [==============================] - 0s 5ms/step - loss: 0.2527 - accuracy: 0.9238 - val_loss: 0.1942 - val_accuracy: 0.9649\n",
      "Epoch 43/100\n",
      "8/8 [==============================] - 0s 5ms/step - loss: 0.2593 - accuracy: 0.9102 - val_loss: 0.1899 - val_accuracy: 0.9649\n",
      "Epoch 44/100\n",
      "8/8 [==============================] - 0s 4ms/step - loss: 0.2451 - accuracy: 0.9141 - val_loss: 0.1874 - val_accuracy: 0.9474\n",
      "Epoch 45/100\n",
      "8/8 [==============================] - 0s 5ms/step - loss: 0.2491 - accuracy: 0.9180 - val_loss: 0.1838 - val_accuracy: 0.9474\n",
      "Epoch 46/100\n",
      "8/8 [==============================] - 0s 5ms/step - loss: 0.2389 - accuracy: 0.9238 - val_loss: 0.1808 - val_accuracy: 0.9474\n",
      "Epoch 47/100\n",
      "8/8 [==============================] - 0s 5ms/step - loss: 0.2464 - accuracy: 0.9082 - val_loss: 0.1774 - val_accuracy: 0.9474\n",
      "Epoch 48/100\n",
      "8/8 [==============================] - 0s 4ms/step - loss: 0.2321 - accuracy: 0.9180 - val_loss: 0.1737 - val_accuracy: 0.9474\n",
      "Epoch 49/100\n",
      "8/8 [==============================] - 0s 5ms/step - loss: 0.2346 - accuracy: 0.9199 - val_loss: 0.1707 - val_accuracy: 0.9474\n",
      "Epoch 50/100\n",
      "8/8 [==============================] - 0s 5ms/step - loss: 0.2420 - accuracy: 0.9180 - val_loss: 0.1682 - val_accuracy: 0.9474\n",
      "Epoch 51/100\n",
      "8/8 [==============================] - 0s 5ms/step - loss: 0.2186 - accuracy: 0.9316 - val_loss: 0.1665 - val_accuracy: 0.9474\n",
      "Epoch 52/100\n",
      "8/8 [==============================] - 0s 4ms/step - loss: 0.2227 - accuracy: 0.9238 - val_loss: 0.1633 - val_accuracy: 0.9474\n",
      "Epoch 53/100\n",
      "8/8 [==============================] - 0s 5ms/step - loss: 0.2201 - accuracy: 0.9180 - val_loss: 0.1607 - val_accuracy: 0.9474\n",
      "Epoch 54/100\n",
      "8/8 [==============================] - 0s 4ms/step - loss: 0.2054 - accuracy: 0.9395 - val_loss: 0.1580 - val_accuracy: 0.9474\n",
      "Epoch 55/100\n",
      "8/8 [==============================] - 0s 5ms/step - loss: 0.2104 - accuracy: 0.9395 - val_loss: 0.1552 - val_accuracy: 0.9474\n",
      "Epoch 56/100\n",
      "8/8 [==============================] - 0s 4ms/step - loss: 0.2159 - accuracy: 0.9336 - val_loss: 0.1531 - val_accuracy: 0.9474\n",
      "Epoch 57/100\n",
      "8/8 [==============================] - 0s 4ms/step - loss: 0.2044 - accuracy: 0.9336 - val_loss: 0.1508 - val_accuracy: 0.9474\n",
      "Epoch 58/100\n",
      "8/8 [==============================] - 0s 4ms/step - loss: 0.2218 - accuracy: 0.9082 - val_loss: 0.1486 - val_accuracy: 0.9474\n",
      "Epoch 59/100\n"
     ]
    },
    {
     "name": "stdout",
     "output_type": "stream",
     "text": [
      "8/8 [==============================] - 0s 5ms/step - loss: 0.2104 - accuracy: 0.9238 - val_loss: 0.1465 - val_accuracy: 0.9474\n",
      "Epoch 60/100\n",
      "8/8 [==============================] - 0s 5ms/step - loss: 0.2030 - accuracy: 0.9277 - val_loss: 0.1444 - val_accuracy: 0.9474\n",
      "Epoch 61/100\n",
      "8/8 [==============================] - 0s 4ms/step - loss: 0.1957 - accuracy: 0.9355 - val_loss: 0.1432 - val_accuracy: 0.9474\n",
      "Epoch 62/100\n",
      "8/8 [==============================] - 0s 5ms/step - loss: 0.2030 - accuracy: 0.9121 - val_loss: 0.1413 - val_accuracy: 0.9474\n",
      "Epoch 63/100\n",
      "8/8 [==============================] - 0s 4ms/step - loss: 0.1870 - accuracy: 0.9434 - val_loss: 0.1395 - val_accuracy: 0.9474\n",
      "Epoch 64/100\n",
      "8/8 [==============================] - 0s 4ms/step - loss: 0.1977 - accuracy: 0.9277 - val_loss: 0.1377 - val_accuracy: 0.9474\n",
      "Epoch 65/100\n",
      "8/8 [==============================] - 0s 4ms/step - loss: 0.1919 - accuracy: 0.9297 - val_loss: 0.1362 - val_accuracy: 0.9474\n",
      "Epoch 66/100\n",
      "8/8 [==============================] - 0s 4ms/step - loss: 0.1959 - accuracy: 0.9219 - val_loss: 0.1344 - val_accuracy: 0.9474\n",
      "Epoch 67/100\n",
      "8/8 [==============================] - 0s 5ms/step - loss: 0.1832 - accuracy: 0.9375 - val_loss: 0.1326 - val_accuracy: 0.9474\n",
      "Epoch 68/100\n",
      "8/8 [==============================] - 0s 5ms/step - loss: 0.1762 - accuracy: 0.9551 - val_loss: 0.1311 - val_accuracy: 0.9474\n",
      "Epoch 69/100\n",
      "8/8 [==============================] - 0s 4ms/step - loss: 0.1866 - accuracy: 0.9395 - val_loss: 0.1298 - val_accuracy: 0.9474\n",
      "Epoch 70/100\n",
      "8/8 [==============================] - 0s 4ms/step - loss: 0.1776 - accuracy: 0.9375 - val_loss: 0.1282 - val_accuracy: 0.9474\n",
      "Epoch 71/100\n",
      "8/8 [==============================] - 0s 5ms/step - loss: 0.1801 - accuracy: 0.9414 - val_loss: 0.1267 - val_accuracy: 0.9474\n",
      "Epoch 72/100\n",
      "8/8 [==============================] - 0s 5ms/step - loss: 0.1858 - accuracy: 0.9277 - val_loss: 0.1254 - val_accuracy: 0.9474\n",
      "Epoch 73/100\n",
      "8/8 [==============================] - 0s 5ms/step - loss: 0.1678 - accuracy: 0.9453 - val_loss: 0.1242 - val_accuracy: 0.9474\n",
      "Epoch 74/100\n",
      "8/8 [==============================] - 0s 5ms/step - loss: 0.1774 - accuracy: 0.9336 - val_loss: 0.1229 - val_accuracy: 0.9474\n",
      "Epoch 75/100\n",
      "8/8 [==============================] - 0s 5ms/step - loss: 0.1710 - accuracy: 0.9434 - val_loss: 0.1217 - val_accuracy: 0.9474\n",
      "Epoch 76/100\n",
      "8/8 [==============================] - 0s 5ms/step - loss: 0.1752 - accuracy: 0.9316 - val_loss: 0.1203 - val_accuracy: 0.9474\n",
      "Epoch 77/100\n",
      "8/8 [==============================] - 0s 4ms/step - loss: 0.1554 - accuracy: 0.9531 - val_loss: 0.1191 - val_accuracy: 0.9474\n",
      "Epoch 78/100\n",
      "8/8 [==============================] - 0s 4ms/step - loss: 0.1646 - accuracy: 0.9414 - val_loss: 0.1179 - val_accuracy: 0.9474\n",
      "Epoch 79/100\n",
      "8/8 [==============================] - 0s 4ms/step - loss: 0.1558 - accuracy: 0.9453 - val_loss: 0.1167 - val_accuracy: 0.9474\n",
      "Epoch 80/100\n",
      "8/8 [==============================] - 0s 4ms/step - loss: 0.1631 - accuracy: 0.9453 - val_loss: 0.1156 - val_accuracy: 0.9474\n",
      "Epoch 81/100\n",
      "8/8 [==============================] - 0s 4ms/step - loss: 0.1619 - accuracy: 0.9395 - val_loss: 0.1146 - val_accuracy: 0.9474\n",
      "Epoch 82/100\n",
      "8/8 [==============================] - 0s 4ms/step - loss: 0.1697 - accuracy: 0.9375 - val_loss: 0.1136 - val_accuracy: 0.9474\n",
      "Epoch 83/100\n",
      "8/8 [==============================] - 0s 4ms/step - loss: 0.1622 - accuracy: 0.9492 - val_loss: 0.1125 - val_accuracy: 0.9474\n",
      "Epoch 84/100\n",
      "8/8 [==============================] - 0s 5ms/step - loss: 0.1553 - accuracy: 0.9668 - val_loss: 0.1113 - val_accuracy: 0.9474\n",
      "Epoch 85/100\n",
      "8/8 [==============================] - 0s 4ms/step - loss: 0.1607 - accuracy: 0.9434 - val_loss: 0.1105 - val_accuracy: 0.9474\n",
      "Epoch 86/100\n",
      "8/8 [==============================] - 0s 5ms/step - loss: 0.1633 - accuracy: 0.9434 - val_loss: 0.1095 - val_accuracy: 0.9474\n",
      "Epoch 87/100\n",
      "8/8 [==============================] - 0s 4ms/step - loss: 0.1498 - accuracy: 0.9473 - val_loss: 0.1086 - val_accuracy: 0.9474\n",
      "Epoch 88/100\n",
      "8/8 [==============================] - 0s 4ms/step - loss: 0.1607 - accuracy: 0.9414 - val_loss: 0.1078 - val_accuracy: 0.9474\n",
      "Epoch 89/100\n",
      "8/8 [==============================] - 0s 4ms/step - loss: 0.1564 - accuracy: 0.9453 - val_loss: 0.1070 - val_accuracy: 0.9474\n",
      "Epoch 90/100\n",
      "8/8 [==============================] - 0s 4ms/step - loss: 0.1533 - accuracy: 0.9473 - val_loss: 0.1061 - val_accuracy: 0.9474\n",
      "Epoch 91/100\n",
      "8/8 [==============================] - 0s 5ms/step - loss: 0.1431 - accuracy: 0.9512 - val_loss: 0.1053 - val_accuracy: 0.9474\n",
      "Epoch 92/100\n",
      "8/8 [==============================] - 0s 4ms/step - loss: 0.1521 - accuracy: 0.9473 - val_loss: 0.1044 - val_accuracy: 0.9474\n",
      "Epoch 93/100\n",
      "8/8 [==============================] - 0s 5ms/step - loss: 0.1467 - accuracy: 0.9473 - val_loss: 0.1037 - val_accuracy: 0.9474\n",
      "Epoch 94/100\n",
      "8/8 [==============================] - 0s 5ms/step - loss: 0.1508 - accuracy: 0.9434 - val_loss: 0.1029 - val_accuracy: 0.9474\n",
      "Epoch 95/100\n",
      "8/8 [==============================] - 0s 4ms/step - loss: 0.1438 - accuracy: 0.9590 - val_loss: 0.1021 - val_accuracy: 0.9474\n",
      "Epoch 96/100\n",
      "8/8 [==============================] - 0s 5ms/step - loss: 0.1462 - accuracy: 0.9453 - val_loss: 0.1013 - val_accuracy: 0.9474\n",
      "Epoch 97/100\n",
      "8/8 [==============================] - 0s 4ms/step - loss: 0.1401 - accuracy: 0.9453 - val_loss: 0.1005 - val_accuracy: 0.9474\n",
      "Epoch 98/100\n",
      "8/8 [==============================] - 0s 4ms/step - loss: 0.1428 - accuracy: 0.9531 - val_loss: 0.0996 - val_accuracy: 0.9474\n",
      "Epoch 99/100\n",
      "8/8 [==============================] - 0s 4ms/step - loss: 0.1478 - accuracy: 0.9395 - val_loss: 0.0989 - val_accuracy: 0.9474\n",
      "Epoch 100/100\n",
      "8/8 [==============================] - 0s 4ms/step - loss: 0.1417 - accuracy: 0.9551 - val_loss: 0.0983 - val_accuracy: 0.9474\n"
     ]
    }
   ],
   "source": [
    "# fit the model with no-early stopping or other callbacks\n",
    "# history is a dictionary to capture the loss and accuracy scores so i can plot later on\n",
    "history = model.fit(X_train, Y_train, verbose=1, epochs=100, batch_size=64, validation_data=(X_test, Y_test))"
   ]
  },
  {
   "cell_type": "code",
   "execution_count": 71,
   "id": "663aeb6e",
   "metadata": {},
   "outputs": [
    {
     "data": {
      "image/png": "[encoded data removed]",
      "text/plain": [
       "<Figure size 432x288 with 1 Axes>"
      ]
     },
     "metadata": {
      "needs_background": "light"
     },
     "output_type": "display_data"
    },
    {
     "data": {
      "image/png": "[encoded data removed]",
      "text/plain": [
       "<Figure size 432x288 with 1 Axes>"
      ]
     },
     "metadata": {
      "needs_background": "light"
     },
     "output_type": "display_data"
    }
   ],
   "source": [
    "# plot the training and validation accuracy and loss at each epoch\n",
    "loss = history.history['loss']\n",
    "val_loss = history.history['val_loss']\n",
    "epochs = range(1, len(loss) + 1)\n",
    "plt.plot(epochs, loss, 'y', label='Taining Loss')\n",
    "plt.plot(epochs, val_loss, 'r', label='Validation Loss')\n",
    "plt.title('Training and Validation Loss')\n",
    "plt.xlabel('Epochs')\n",
    "plt.ylabel('Loss')\n",
    "plt.legend()\n",
    "plt.show()\n",
    "\n",
    "\n",
    "acc = history.history['accuracy']\n",
    "val_acc = history.history['val_accuracy']\n",
    "plt.plot(epochs, acc, 'y', label='Taining Accuracy')\n",
    "plt.plot(epochs, val_acc, 'r', label='Validation Accuracy')\n",
    "plt.title('Training and Validation Accuracy')\n",
    "plt.xlabel('Epochs')\n",
    "plt.ylabel('Accuracy')\n",
    "plt.legend()\n",
    "plt.show()"
   ]
  },
  {
   "cell_type": "code",
   "execution_count": null,
   "id": "ffe1eac0",
   "metadata": {},
   "outputs": [],
   "source": []
  }
 ],
 "metadata": {
  "kernelspec": {
   "display_name": "Python 3 (ipykernel)",
   "language": "python",
   "name": "python3"
  },
  "language_info": {
   "codemirror_mode": {
    "name": "ipython",
    "version": 3
   },
   "file_extension": ".py",
   "mimetype": "text/x-python",
   "name": "python",
   "nbconvert_exporter": "python",
   "pygments_lexer": "ipython3",
   "version": "3.9.8"
  }
 },
 "nbformat": 4,
 "nbformat_minor": 5
}
